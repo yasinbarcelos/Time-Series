{
 "cells": [
  {
   "cell_type": "code",
   "execution_count": 10,
   "metadata": {},
   "outputs": [
    {
     "name": "stdout",
     "output_type": "stream",
     "text": [
      "['c:\\\\Users\\\\Yasin Mghazli\\\\Documents\\\\Mestrado\\\\TimeSeries\\\\tests', 'c:\\\\Users\\\\Yasin Mghazli\\\\AppData\\\\Local\\\\Programs\\\\Python\\\\Python310\\\\python310.zip', 'c:\\\\Users\\\\Yasin Mghazli\\\\AppData\\\\Local\\\\Programs\\\\Python\\\\Python310\\\\DLLs', 'c:\\\\Users\\\\Yasin Mghazli\\\\AppData\\\\Local\\\\Programs\\\\Python\\\\Python310\\\\lib', 'c:\\\\Users\\\\Yasin Mghazli\\\\AppData\\\\Local\\\\Programs\\\\Python\\\\Python310', '', 'c:\\\\Users\\\\Yasin Mghazli\\\\AppData\\\\Local\\\\Programs\\\\Python\\\\Python310\\\\lib\\\\site-packages', 'c:\\\\Users\\\\Yasin Mghazli\\\\AppData\\\\Local\\\\Programs\\\\Python\\\\Python310\\\\lib\\\\site-packages\\\\win32', 'c:\\\\Users\\\\Yasin Mghazli\\\\AppData\\\\Local\\\\Programs\\\\Python\\\\Python310\\\\lib\\\\site-packages\\\\win32\\\\lib', 'c:\\\\Users\\\\Yasin Mghazli\\\\AppData\\\\Local\\\\Programs\\\\Python\\\\Python310\\\\lib\\\\site-packages\\\\Pythonwin', 'c:\\\\Users\\\\Yasin Mghazli\\\\Documents\\\\Mestrado\\\\TimeSeries', 'c:\\\\Users\\\\Yasin Mghazli\\\\Documents\\\\Mestrado\\\\TimeSeries']\n"
     ]
    }
   ],
   "source": [
    "import sys\n",
    "sys.path.append(os.path.abspath(\"../\"))\n",
    "print(sys.path)"
   ]
  },
  {
   "cell_type": "code",
   "execution_count": 19,
   "metadata": {},
   "outputs": [
    {
     "ename": "NameError",
     "evalue": "name 'TimeSeries' is not defined",
     "output_type": "error",
     "traceback": [
      "\u001b[1;31m---------------------------------------------------------------------------\u001b[0m",
      "\u001b[1;31mNameError\u001b[0m                                 Traceback (most recent call last)",
      "\u001b[1;32mc:\\Users\\Yasin Mghazli\\Documents\\Mestrado\\TimeSeries\\tests\\test.ipynb Cell 2'\u001b[0m in \u001b[0;36m<cell line: 1>\u001b[1;34m()\u001b[0m\n\u001b[1;32m----> <a href='vscode-notebook-cell:/c%3A/Users/Yasin%20Mghazli/Documents/Mestrado/TimeSeries/tests/test.ipynb#ch0000001?line=0'>1</a>\u001b[0m TimeSeries\u001b[39m.\u001b[39mscripts\u001b[39m.\u001b[39mgenerate_data\n",
      "\u001b[1;31mNameError\u001b[0m: name 'TimeSeries' is not defined"
     ]
    }
   ],
   "source": [
    "from scripts.generate_data import import_indices"
   ]
  },
  {
   "cell_type": "code",
   "execution_count": null,
   "metadata": {},
   "outputs": [],
   "source": [
    "from cProfile import run\n",
    "run(\"generate_data.importdata(TS='^BVSP',start='2000-01-01', end='2019-12-31', interval = '1d',period = None,)\")"
   ]
  },
  {
   "cell_type": "code",
   "execution_count": null,
   "metadata": {},
   "outputs": [],
   "source": [
    "from scripts import evaluation"
   ]
  },
  {
   "cell_type": "code",
   "execution_count": null,
   "metadata": {},
   "outputs": [],
   "source": [
    "import importlib\n",
    "from scripts import generate_data\n",
    "importlib.reload(generate_data)"
   ]
  },
  {
   "cell_type": "code",
   "execution_count": 1,
   "metadata": {},
   "outputs": [
    {
     "ename": "NameError",
     "evalue": "name 'data_train' is not defined",
     "output_type": "error",
     "traceback": [
      "\u001b[1;31m---------------------------------------------------------------------------\u001b[0m",
      "\u001b[1;31mNameError\u001b[0m                                 Traceback (most recent call last)",
      "\u001b[1;32mc:\\Users\\Yasin Mghazli\\Documents\\Mestrado\\TimeSeries\\tests\\test.ipynb Célula: 6\u001b[0m in \u001b[0;36m<cell line: 3>\u001b[1;34m()\u001b[0m\n\u001b[0;32m      <a href='vscode-notebook-cell:/c%3A/Users/Yasin%20Mghazli/Documents/Mestrado/TimeSeries/tests/test.ipynb#ch0000005?line=0'>1</a>\u001b[0m \u001b[39mfrom\u001b[39;00m \u001b[39msklearn\u001b[39;00m\u001b[39m.\u001b[39;00m\u001b[39mpreprocessing\u001b[39;00m \u001b[39mimport\u001b[39;00m MinMaxScaler\n\u001b[0;32m      <a href='vscode-notebook-cell:/c%3A/Users/Yasin%20Mghazli/Documents/Mestrado/TimeSeries/tests/test.ipynb#ch0000005?line=1'>2</a>\u001b[0m scaler \u001b[39m=\u001b[39m MinMaxScaler(feature_range\u001b[39m=\u001b[39m(\u001b[39m0.1\u001b[39m, \u001b[39m0.9\u001b[39m))\n\u001b[1;32m----> <a href='vscode-notebook-cell:/c%3A/Users/Yasin%20Mghazli/Documents/Mestrado/TimeSeries/tests/test.ipynb#ch0000005?line=2'>3</a>\u001b[0m scaler \u001b[39m=\u001b[39m scaler\u001b[39m.\u001b[39mfit(data_train)\n\u001b[0;32m      <a href='vscode-notebook-cell:/c%3A/Users/Yasin%20Mghazli/Documents/Mestrado/TimeSeries/tests/test.ipynb#ch0000005?line=3'>4</a>\u001b[0m normalized \u001b[39m=\u001b[39m scaler\u001b[39m.\u001b[39mtransform(data_train)\n\u001b[0;32m      <a href='vscode-notebook-cell:/c%3A/Users/Yasin%20Mghazli/Documents/Mestrado/TimeSeries/tests/test.ipynb#ch0000005?line=4'>5</a>\u001b[0m normalized\n",
      "\u001b[1;31mNameError\u001b[0m: name 'data_train' is not defined"
     ]
    }
   ],
   "source": [
    "from sklearn.preprocessing import MinMaxScaler\n",
    "scaler = MinMaxScaler(feature_range=(0.1, 0.9))\n",
    "scaler = scaler.fit(data_train)\n",
    "normalized = scaler.transform(data_train)\n",
    "normalized\n",
    "\n",
    "def MinMax(df,a=0,b=1):\n",
    "  normalizados = []\n",
    "  for e in df:\n",
    "    xn = a+(e - df.min())*(b-a) / (df.max() - df.min())\n",
    "    normalizados.append(xn)\n",
    "  df_normalizado = pd.DataFrame(normalizados)\n",
    "  df_normalizado_series = pd.Series(normalizados, index=df.index)\n",
    "  return df_normalizado_series, df.min(), df.max()\n",
    "normalized2 = MinMax(data_train[\"Close\"],a=0.1,b=0.9)"
   ]
  },
  {
   "cell_type": "code",
   "execution_count": null,
   "metadata": {},
   "outputs": [],
   "source": []
  }
 ],
 "metadata": {
  "kernelspec": {
   "display_name": "Python 3.10.5 64-bit",
   "language": "python",
   "name": "python3"
  },
  "language_info": {
   "codemirror_mode": {
    "name": "ipython",
    "version": 3
   },
   "file_extension": ".py",
   "mimetype": "text/x-python",
   "name": "python",
   "nbconvert_exporter": "python",
   "pygments_lexer": "ipython3",
   "version": "3.10.5"
  },
  "orig_nbformat": 4,
  "vscode": {
   "interpreter": {
    "hash": "63583b7a121ebfbd9a9dcad6e79ead0d2b0a53ce541a8da8e52a7c48d8ab7ba0"
   }
  }
 },
 "nbformat": 4,
 "nbformat_minor": 2
}
